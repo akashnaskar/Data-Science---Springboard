{
 "cells": [
  {
   "cell_type": "markdown",
   "metadata": {},
   "source": [
    "# Part 0: Preprocessing"
   ]
  },
  {
   "cell_type": "code",
   "execution_count": 1,
   "metadata": {},
   "outputs": [],
   "source": [
    "# Import modules\n",
    "%load_ext autoreload\n",
    "%autoreload 2\n",
    "\n",
    "import pandas as pd\n",
    "import numpy as np\n",
    "import matplotlib.pyplot as plt\n",
    "import seaborn as sns\n",
    "import os\n",
    "import json\n",
    "import random"
   ]
  },
  {
   "cell_type": "code",
   "execution_count": 2,
   "metadata": {},
   "outputs": [],
   "source": [
    "# ignore deprecation warnings in sklearn\n",
    "\n",
    "import warnings\n",
    "warnings.filterwarnings(\"ignore\")"
   ]
  },
  {
   "cell_type": "code",
   "execution_count": 3,
   "metadata": {},
   "outputs": [],
   "source": [
    "# Specify data directory\n",
    "\n",
    "data_dir = os.path.join(os.path.dirname(os.getcwd()),'Data')\n",
    "\n",
    "# Set model directory\n",
    "\n",
    "model_dir = os.path.join(os.path.dirname(os.getcwd()), 'Model')"
   ]
  },
  {
   "cell_type": "code",
   "execution_count": 4,
   "metadata": {},
   "outputs": [],
   "source": [
    "# Set data paths\n",
    "\n",
    "train_path = os.path.join(data_dir, 'train.csv')\n",
    "\n",
    "train_processed_path = os.path.join(data_dir, 'interim', 'train_preprocessed.txt')\n",
    "\n",
    "meta_feat_path = os.path.join(data_dir, 'interim', 'meta_feat.txt')"
   ]
  },
  {
   "cell_type": "code",
   "execution_count": 35,
   "metadata": {},
   "outputs": [],
   "source": [
    "train = pd.read_csv(train_path)\n",
    "train_processed = pd.read_json(train_processed_path)\n",
    "meta_feat = pd.read_json(meta_feat_path)"
   ]
  },
  {
   "cell_type": "code",
   "execution_count": 36,
   "metadata": {},
   "outputs": [
    {
     "data": {
      "text/html": [
       "<div>\n",
       "<style scoped>\n",
       "    .dataframe tbody tr th:only-of-type {\n",
       "        vertical-align: middle;\n",
       "    }\n",
       "\n",
       "    .dataframe tbody tr th {\n",
       "        vertical-align: top;\n",
       "    }\n",
       "\n",
       "    .dataframe thead th {\n",
       "        text-align: right;\n",
       "    }\n",
       "</style>\n",
       "<table border=\"1\" class=\"dataframe\">\n",
       "  <thead>\n",
       "    <tr style=\"text-align: right;\">\n",
       "      <th></th>\n",
       "      <th>sentiment</th>\n",
       "      <th>n_upper</th>\n",
       "      <th>word_count</th>\n",
       "      <th>char_count</th>\n",
       "      <th>avg_wlen</th>\n",
       "      <th>adj_drug_count</th>\n",
       "      <th>n_stop</th>\n",
       "      <th>n_num</th>\n",
       "      <th>drug_category</th>\n",
       "    </tr>\n",
       "  </thead>\n",
       "  <tbody>\n",
       "    <tr>\n",
       "      <th>0</th>\n",
       "      <td>2</td>\n",
       "      <td>1</td>\n",
       "      <td>76</td>\n",
       "      <td>404</td>\n",
       "      <td>5.315789</td>\n",
       "      <td>0.026316</td>\n",
       "      <td>28</td>\n",
       "      <td>0</td>\n",
       "      <td>38</td>\n",
       "    </tr>\n",
       "    <tr>\n",
       "      <th>1</th>\n",
       "      <td>2</td>\n",
       "      <td>5</td>\n",
       "      <td>206</td>\n",
       "      <td>1184</td>\n",
       "      <td>5.747573</td>\n",
       "      <td>0.000000</td>\n",
       "      <td>85</td>\n",
       "      <td>0</td>\n",
       "      <td>38</td>\n",
       "    </tr>\n",
       "    <tr>\n",
       "      <th>10</th>\n",
       "      <td>1</td>\n",
       "      <td>14</td>\n",
       "      <td>328</td>\n",
       "      <td>1807</td>\n",
       "      <td>5.509146</td>\n",
       "      <td>0.006098</td>\n",
       "      <td>133</td>\n",
       "      <td>4</td>\n",
       "      <td>55</td>\n",
       "    </tr>\n",
       "    <tr>\n",
       "      <th>100</th>\n",
       "      <td>1</td>\n",
       "      <td>9</td>\n",
       "      <td>146</td>\n",
       "      <td>703</td>\n",
       "      <td>4.815068</td>\n",
       "      <td>0.006849</td>\n",
       "      <td>62</td>\n",
       "      <td>6</td>\n",
       "      <td>89</td>\n",
       "    </tr>\n",
       "    <tr>\n",
       "      <th>1000</th>\n",
       "      <td>2</td>\n",
       "      <td>4</td>\n",
       "      <td>67</td>\n",
       "      <td>386</td>\n",
       "      <td>5.761194</td>\n",
       "      <td>0.029851</td>\n",
       "      <td>31</td>\n",
       "      <td>0</td>\n",
       "      <td>35</td>\n",
       "    </tr>\n",
       "  </tbody>\n",
       "</table>\n",
       "</div>"
      ],
      "text/plain": [
       "      sentiment  n_upper  word_count  char_count  avg_wlen  adj_drug_count  \\\n",
       "0             2        1          76         404  5.315789        0.026316   \n",
       "1             2        5         206        1184  5.747573        0.000000   \n",
       "10            1       14         328        1807  5.509146        0.006098   \n",
       "100           1        9         146         703  4.815068        0.006849   \n",
       "1000          2        4          67         386  5.761194        0.029851   \n",
       "\n",
       "      n_stop  n_num  drug_category  \n",
       "0         28      0             38  \n",
       "1         85      0             38  \n",
       "10       133      4             55  \n",
       "100       62      6             89  \n",
       "1000      31      0             35  "
      ]
     },
     "execution_count": 36,
     "metadata": {},
     "output_type": "execute_result"
    }
   ],
   "source": [
    "meta_feat.head()"
   ]
  },
  {
   "cell_type": "markdown",
   "metadata": {},
   "source": [
    "# Part 1: Machine Learning"
   ]
  },
  {
   "cell_type": "code",
   "execution_count": 50,
   "metadata": {},
   "outputs": [],
   "source": [
    "# Import Naive Bayes\n",
    "\n",
    "from sklearn.model_selection import train_test_split\n",
    "from sklearn.feature_extraction.text import CountVectorizer\n",
    "from sklearn.feature_extraction.text import TfidfVectorizer\n",
    "from sklearn.naive_bayes import MultinomialNB\n",
    "from sklearn.model_selection import GridSearchCV\n",
    "from sklearn.pipeline import Pipeline\n",
    "from sklearn.metrics import classification_report, confusion_matrix, f1_score\n",
    "from sklearn.multiclass import OneVsRestClassifier\n",
    "from sklearn.ensemble import RandomForestClassifier\n",
    "from sklearn.svm import SVC\n",
    "from sklearn.linear_model import LogisticRegression, SGDClassifier\n",
    "from sklearn.preprocessing import StandardScaler, MinMaxScaler\n",
    "from custom_function.ml import create_classifier, evaluate_classifier, get_model_results\n",
    "import pickle"
   ]
  },
  {
   "cell_type": "markdown",
   "metadata": {},
   "source": [
    "# Baseline Model"
   ]
  },
  {
   "cell_type": "markdown",
   "metadata": {},
   "source": [
    "# Define X and y\n",
    "\n",
    "X = meta_feat.drop(\"sentiment\", axis = 1)\n",
    "y = meta_feat.sentiment\n",
    "indices = train_processed.index\n",
    "\n",
    "# Split train and test set\n",
    "\n",
    "Xtrain, Xtest, ytrain, ytest, itrain, itest = train_test_split(X, y, indices, train_size = 0.8, random_state = 42)"
   ]
  },
  {
   "cell_type": "markdown",
   "metadata": {},
   "source": [
    "%%time\n",
    "\n",
    "filename = 'baseline_lr.sav'\n",
    "\n",
    "parameter = {'model__C':[0.01, 0.1, 1, 10, 100]}\n",
    "\n",
    "clf = create_classifier(Xtrain,\n",
    "                        ytrain,\n",
    "                        LogisticRegression(solver = 'lbfgs', class_weight = 'balanced'),\n",
    "                        parameter,\n",
    "                        5,\n",
    "                        'f1_macro',\n",
    "                        open(os.path.join(model_dir,filename), 'wb'),\n",
    "                        preprocess = StandardScaler())\n",
    "\n",
    "# Extract classifier score\n",
    "f1macro_score, cm = evaluate_classifier(clf,\n",
    "                                       Xtest,\n",
    "                                       ytest)\n",
    "\n",
    "# Print score\n",
    "print(f1macro_score)\n",
    "print(cm)\n",
    "print(clf.best_params_)"
   ]
  },
  {
   "cell_type": "markdown",
   "metadata": {},
   "source": [
    "unique, counts = np.unique(clf.predict(Xtest), return_counts=True)\n",
    "dict(zip(unique, counts))"
   ]
  },
  {
   "cell_type": "markdown",
   "metadata": {},
   "source": [
    "# Bag of word models"
   ]
  },
  {
   "cell_type": "code",
   "execution_count": 53,
   "metadata": {},
   "outputs": [],
   "source": [
    "# Define X and y\n",
    "\n",
    "X = train_processed.text\n",
    "y = train_processed.sentiment\n",
    "indices = train_processed.index\n",
    "\n",
    "# Split train and test set\n",
    "\n",
    "Xtrain, Xtest, ytrain, ytest, itrain, itest = train_test_split(X, y, indices, train_size = 0.8, random_state = 42)"
   ]
  },
  {
   "cell_type": "markdown",
   "metadata": {},
   "source": [
    "## Naive Bayes - BoW"
   ]
  },
  {
   "cell_type": "markdown",
   "metadata": {},
   "source": [
    "%%time\n",
    "\n",
    "filename = 'nb_bow.sav'\n",
    "\n",
    "parameter = {'pre__min_df':[0.01, 0.1, 1, 10],\n",
    "             'pre__ngram_range':[(1,1),(1,2)],\n",
    "             'model__alpha':[0.01, 0.1, 1, 10]}\n",
    "\n",
    "clf = create_classifier(Xtrain,\n",
    "                        ytrain,\n",
    "                        MultinomialNB(),\n",
    "                        parameter,\n",
    "                        5,\n",
    "                        'f1_macro',\n",
    "                        open(os.path.join(model_dir,filename), 'wb'),\n",
    "                        preprocess = CountVectorizer())\n",
    "\n",
    "# Extract classifier score\n",
    "f1macro_score, cm = evaluate_classifier(clf,\n",
    "                                       Xtest,\n",
    "                                       ytest)\n",
    "\n",
    "# Print score\n",
    "print(f1macro_score)\n",
    "print(cm)\n",
    "print(clf.best_params_)"
   ]
  },
  {
   "cell_type": "markdown",
   "metadata": {},
   "source": [
    "## Naive Bayes - Tfidf"
   ]
  },
  {
   "cell_type": "markdown",
   "metadata": {},
   "source": [
    "%%time\n",
    "\n",
    "filename = 'nb_tfidf.sav'\n",
    "\n",
    "parameter = {'pre__min_df':[0.01, 0.1, 1, 10],\n",
    "             'pre__ngram_range':[(1,1),(1,2)],\n",
    "             'model__alpha':[0.01, 0.1, 1, 10]}\n",
    "\n",
    "clf = create_classifier(Xtrain,\n",
    "                        ytrain,\n",
    "                        MultinomialNB(),\n",
    "                        parameter,\n",
    "                        5,\n",
    "                        'f1_macro',\n",
    "                        open(os.path.join(model_dir,filename), 'wb'),\n",
    "                        preprocess = TfidfVectorizer())\n",
    "\n",
    "# Extract classifier score\n",
    "f1macro_score, cm = evaluate_classifier(clf,\n",
    "                                       Xtest,\n",
    "                                       ytest)\n",
    "\n",
    "# Print score\n",
    "print(f1macro_score)\n",
    "print(cm)\n",
    "print(clf.best_params_)"
   ]
  },
  {
   "cell_type": "markdown",
   "metadata": {},
   "source": [
    "## Random Forest - BoW"
   ]
  },
  {
   "cell_type": "markdown",
   "metadata": {},
   "source": [
    "%%time\n",
    "\n",
    "filename = 'rf_bow.sav'\n",
    "\n",
    "parameter = {'pre__min_df':[0.01, 0.1, 1, 10],\n",
    "              'pre__ngram_range':[(1,1),(1,2)],\n",
    "              'model__n_estimators':[10 , 20, 40],\n",
    "              'model__max_features': ['auto', 'sqrt', 'log2']}\n",
    "\n",
    "clf = create_classifier(Xtrain,\n",
    "                        ytrain,\n",
    "                        RandomForestClassifier(),\n",
    "                        parameter,\n",
    "                        5,\n",
    "                        'f1_macro',\n",
    "                        open(os.path.join(model_dir,filename), 'wb'),\n",
    "                        preprocess = CountVectorizer())\n",
    "\n",
    "# Extract classifier score\n",
    "f1macro_score, cm = evaluate_classifier(clf,\n",
    "                                       Xtest,\n",
    "                                       ytest)\n",
    "\n",
    "# Print score\n",
    "print(f1macro_score)\n",
    "print(cm)\n",
    "print(clf.best_params_)"
   ]
  },
  {
   "cell_type": "markdown",
   "metadata": {},
   "source": [
    "## Random Forest - Tfidf"
   ]
  },
  {
   "cell_type": "markdown",
   "metadata": {},
   "source": [
    "%%time\n",
    "\n",
    "filename = 'rf_tfidf.sav'\n",
    "\n",
    "parameter = {'pre__min_df':[0.01, 0.1, 1, 10],\n",
    "              'pre__ngram_range':[(1,1),(1,2)],\n",
    "              'model__n_estimators':[10 , 20, 40],\n",
    "              'model__max_features': ['auto', 'sqrt', 'log2']}\n",
    "\n",
    "clf = create_classifier(Xtrain,\n",
    "                        ytrain,\n",
    "                        RandomForestClassifier(),\n",
    "                        parameter,\n",
    "                        5,\n",
    "                        'f1_macro',\n",
    "                        open(os.path.join(model_dir,filename), 'wb'),\n",
    "                        preprocess = TfidfVectorizer())\n",
    "\n",
    "# Extract classifier score\n",
    "f1macro_score, cm = evaluate_classifier(clf,\n",
    "                                       Xtest,\n",
    "                                       ytest)\n",
    "\n",
    "# Print score\n",
    "print(f1macro_score)\n",
    "print(cm)\n",
    "print(clf.best_params_)"
   ]
  },
  {
   "cell_type": "markdown",
   "metadata": {},
   "source": [
    "## SVC - BoW"
   ]
  },
  {
   "cell_type": "markdown",
   "metadata": {},
   "source": [
    "%%time\n",
    "\n",
    "filename = 'svc_bow.sav'\n",
    "\n",
    "parameter = {'pre__min_df':[0.01, 0.1, 1, 10],\n",
    "             'pre__ngram_range':[(1,1),(1,2)],\n",
    "              'model__C':[0.01, 0.1, 1],\n",
    "              'model__kernel':['linear', 'poly', 'rbf'],\n",
    "              'model__gamma':['auto', 'scale']}\n",
    "\n",
    "clf = create_classifier(Xtrain,\n",
    "                        ytrain,\n",
    "                        SVC(),\n",
    "                        parameter,\n",
    "                        3,\n",
    "                        'f1_macro',\n",
    "                        open(os.path.join(model_dir,filename), 'wb'),\n",
    "                        preprocess = CountVectorizer())\n",
    "\n",
    "# Extract classifier score\n",
    "f1macro_score, cm = evaluate_classifier(clf,\n",
    "                                       Xtest,\n",
    "                                       ytest)\n",
    "\n",
    "# Print score\n",
    "print(f1macro_score)\n",
    "print(cm)\n",
    "print(clf.best_params_)"
   ]
  },
  {
   "cell_type": "markdown",
   "metadata": {},
   "source": [
    "## SVC - Tfidf"
   ]
  },
  {
   "cell_type": "markdown",
   "metadata": {
    "scrolled": false
   },
   "source": [
    "%%time\n",
    "\n",
    "filename = 'svc_tfidf.sav'\n",
    "\n",
    "parameter = {'pre__min_df':[0.01, 0.1, 1, 10],\n",
    "             'pre__ngram_range':[(1,1),(1,2)],\n",
    "              'model__C':[0.01, 0.1, 1],\n",
    "              'model__kernel':['linear', 'poly', 'rbf'],\n",
    "              'model__gamma':['auto', 'scale']}\n",
    "\n",
    "clf = create_classifier(Xtrain,\n",
    "                        ytrain,\n",
    "                        SVC(),\n",
    "                        parameter,\n",
    "                        3,\n",
    "                        'f1_macro',\n",
    "                        open(os.path.join(model_dir,filename), 'wb'),\n",
    "                        preprocess = TfidfVectorizer())\n",
    "\n",
    "# Extract classifier score\n",
    "f1macro_score, cm = evaluate_classifier(clf,\n",
    "                                       Xtest,\n",
    "                                       ytest)\n",
    "\n",
    "# Print score\n",
    "print(f1macro_score)\n",
    "print(cm)\n",
    "print(clf.best_params_)"
   ]
  },
  {
   "cell_type": "markdown",
   "metadata": {},
   "source": [
    "## Logistic Regression - Bow"
   ]
  },
  {
   "cell_type": "markdown",
   "metadata": {},
   "source": [
    "%%time\n",
    "\n",
    "filename = 'lr_bow.sav'\n",
    "\n",
    "parameter = {'pre__min_df':[0.01, 0.1, 1, 10],\n",
    "             'pre__ngram_range':[(1,1),(1,2)],\n",
    "             'model__C':[0.01, 0.1, 1, 10, 100]}\n",
    "\n",
    "clf = create_classifier(Xtrain,\n",
    "                        ytrain,\n",
    "                        LogisticRegression(solver = 'lbfgs', class_weight = 'balanced'),\n",
    "                        parameter,\n",
    "                        5,\n",
    "                        'f1_macro',\n",
    "                        open(os.path.join(model_dir,filename), 'wb'),\n",
    "                        preprocess = CountVectorizer())\n",
    "\n",
    "# Extract classifier score\n",
    "f1macro_score, cm = evaluate_classifier(clf,\n",
    "                                       Xtest,\n",
    "                                       ytest)\n",
    "\n",
    "# Print score\n",
    "print(f1macro_score)\n",
    "print(cm)\n",
    "print(clf.best_params_)"
   ]
  },
  {
   "cell_type": "markdown",
   "metadata": {},
   "source": [
    "## Logistic Regression - Tfidf"
   ]
  },
  {
   "cell_type": "markdown",
   "metadata": {},
   "source": [
    "%%time\n",
    "\n",
    "filename = 'lr_tfidf.sav'\n",
    "\n",
    "parameter = {'pre__min_df':[0.01, 0.1, 1, 10],\n",
    "             'pre__ngram_range':[(1,1),(1,2)],\n",
    "             'model__C':[0.01, 0.1, 1, 10, 100]}\n",
    "\n",
    "clf = create_classifier(Xtrain,\n",
    "                        ytrain,\n",
    "                        LogisticRegression(solver = 'lbfgs', class_weight = 'balanced'),\n",
    "                        parameter,\n",
    "                        5,\n",
    "                        'f1_macro',\n",
    "                        open(os.path.join(model_dir,filename), 'wb'),\n",
    "                        preprocess = TfidfVectorizer())\n",
    "\n",
    "# Extract classifier score\n",
    "f1macro_score, cm = evaluate_classifier(clf,\n",
    "                                       Xtest,\n",
    "                                       ytest)\n",
    "\n",
    "# Print score\n",
    "print(f1macro_score)\n",
    "print(cm)\n",
    "print(clf.best_params_)"
   ]
  },
  {
   "cell_type": "markdown",
   "metadata": {},
   "source": [
    "## SGD - Bow"
   ]
  },
  {
   "cell_type": "markdown",
   "metadata": {},
   "source": [
    "%%time\n",
    "\n",
    "filename = 'sgd_bow.sav'\n",
    "\n",
    "parameter = {'pre__min_df':[0.01, 0.1, 1, 10],\n",
    "             'pre__ngram_range':[(1,1),(1,2)],\n",
    "             'model__alpha': [1e-4, 1e-3, 1e-2, 1e-1, 1e0, 1e1, 1e2]}\n",
    "\n",
    "clf = create_classifier(Xtrain,\n",
    "                        ytrain,\n",
    "                        SGDClassifier(max_iter = 1000, loss = 'log', penalty = 'l2'),\n",
    "                        parameter,\n",
    "                        5,\n",
    "                        'f1_macro',\n",
    "                        open(os.path.join(model_dir,filename), 'wb'),\n",
    "                        preprocess = CountVectorizer())\n",
    "\n",
    "# Extract classifier score\n",
    "f1macro_score, cm = evaluate_classifier(clf,\n",
    "                                       Xtest,\n",
    "                                       ytest)\n",
    "\n",
    "# Print score\n",
    "print(f1macro_score)\n",
    "print(cm)\n",
    "print(clf.best_params_)"
   ]
  },
  {
   "cell_type": "markdown",
   "metadata": {},
   "source": [
    "## SGD - Tfidf"
   ]
  },
  {
   "cell_type": "markdown",
   "metadata": {},
   "source": [
    "%%time\n",
    "\n",
    "filename = 'sgd_tfidf.sav'\n",
    "\n",
    "parameter = {'pre__min_df':[0.01, 0.1, 1, 10],\n",
    "             'pre__ngram_range':[(1,1),(1,2)],\n",
    "             'model__alpha': [1e-4, 1e-3, 1e-2, 1e-1, 1e0, 1e1, 1e2]}\n",
    "\n",
    "clf = create_classifier(Xtrain,\n",
    "                        ytrain,\n",
    "                        SGDClassifier(max_iter = 1000, loss = 'log', penalty = 'l2'),\n",
    "                        parameter,\n",
    "                        5,\n",
    "                        'f1_macro',\n",
    "                        open(os.path.join(model_dir,filename), 'wb'),\n",
    "                        preprocess = TfidfVectorizer())\n",
    "\n",
    "# Extract classifier score\n",
    "f1macro_score, cm = evaluate_classifier(clf,\n",
    "                                       Xtest,\n",
    "                                       ytest)\n",
    "\n",
    "# Print score\n",
    "print(f1macro_score)\n",
    "print(cm)\n",
    "print(clf.best_params_)"
   ]
  },
  {
   "cell_type": "code",
   "execution_count": 58,
   "metadata": {
    "scrolled": false
   },
   "outputs": [
    {
     "data": {
      "text/html": [
       "<div>\n",
       "<style scoped>\n",
       "    .dataframe tbody tr th:only-of-type {\n",
       "        vertical-align: middle;\n",
       "    }\n",
       "\n",
       "    .dataframe tbody tr th {\n",
       "        vertical-align: top;\n",
       "    }\n",
       "\n",
       "    .dataframe thead th {\n",
       "        text-align: right;\n",
       "    }\n",
       "</style>\n",
       "<table border=\"1\" class=\"dataframe\">\n",
       "  <thead>\n",
       "    <tr style=\"text-align: right;\">\n",
       "      <th></th>\n",
       "      <th>model</th>\n",
       "      <th>f1_macro</th>\n",
       "    </tr>\n",
       "  </thead>\n",
       "  <tbody>\n",
       "    <tr>\n",
       "      <th>0</th>\n",
       "      <td>nb_bow.sav</td>\n",
       "      <td>0.443089</td>\n",
       "    </tr>\n",
       "    <tr>\n",
       "      <th>1</th>\n",
       "      <td>nb_tfidf.sav</td>\n",
       "      <td>0.430053</td>\n",
       "    </tr>\n",
       "    <tr>\n",
       "      <th>2</th>\n",
       "      <td>rf_bow.sav</td>\n",
       "      <td>0.348805</td>\n",
       "    </tr>\n",
       "    <tr>\n",
       "      <th>3</th>\n",
       "      <td>rf_tfidf.sav</td>\n",
       "      <td>0.362117</td>\n",
       "    </tr>\n",
       "    <tr>\n",
       "      <th>4</th>\n",
       "      <td>svc_bow.sav</td>\n",
       "      <td>0.430939</td>\n",
       "    </tr>\n",
       "    <tr>\n",
       "      <th>5</th>\n",
       "      <td>svc_tfidf.sav</td>\n",
       "      <td>0.342595</td>\n",
       "    </tr>\n",
       "    <tr>\n",
       "      <th>6</th>\n",
       "      <td>lr_bow.sav</td>\n",
       "      <td>0.488090</td>\n",
       "    </tr>\n",
       "    <tr>\n",
       "      <th>7</th>\n",
       "      <td>lr_tfidf.sav</td>\n",
       "      <td>0.500102</td>\n",
       "    </tr>\n",
       "    <tr>\n",
       "      <th>8</th>\n",
       "      <td>sgd_bow.sav</td>\n",
       "      <td>0.418400</td>\n",
       "    </tr>\n",
       "    <tr>\n",
       "      <th>9</th>\n",
       "      <td>sgd_tfidf.sav</td>\n",
       "      <td>0.365344</td>\n",
       "    </tr>\n",
       "  </tbody>\n",
       "</table>\n",
       "</div>"
      ],
      "text/plain": [
       "           model  f1_macro\n",
       "0     nb_bow.sav  0.443089\n",
       "1   nb_tfidf.sav  0.430053\n",
       "2     rf_bow.sav  0.348805\n",
       "3   rf_tfidf.sav  0.362117\n",
       "4    svc_bow.sav  0.430939\n",
       "5  svc_tfidf.sav  0.342595\n",
       "6     lr_bow.sav  0.488090\n",
       "7   lr_tfidf.sav  0.500102\n",
       "8    sgd_bow.sav  0.418400\n",
       "9  sgd_tfidf.sav  0.365344"
      ]
     },
     "execution_count": 58,
     "metadata": {},
     "output_type": "execute_result"
    }
   ],
   "source": [
    "models = ['nb_bow.sav', 'nb_tfidf.sav', \n",
    "          'rf_bow.sav', 'rf_tfidf.sav', \n",
    "          'svc_bow.sav', 'svc_tfidf.sav', \n",
    "          'lr_bow.sav', 'lr_tfidf.sav',\n",
    "          'sgd_bow.sav', 'sgd_tfidf.sav']\n",
    "\n",
    "results = get_model_results(models, model_dir, Xtest, ytest)\n",
    "results"
   ]
  },
  {
   "cell_type": "markdown",
   "metadata": {},
   "source": [
    "# Stacked Model"
   ]
  },
  {
   "cell_type": "markdown",
   "metadata": {},
   "source": [
    "## Stacking Meta and BoW Features"
   ]
  },
  {
   "cell_type": "code",
   "execution_count": 79,
   "metadata": {},
   "outputs": [],
   "source": [
    "# Vectorizing the sparse features\n",
    "\n",
    "vec = TfidfVectorizer(min_df = 15, ngram_range=(1, 2))\n",
    "#vec_fit = vec.fit(train_processed.text)\n",
    "sparse_feat = vec.fit_transform(train_processed.text)\n",
    "sparse_feat\n",
    "\n",
    "# Scaling meta features\n",
    "\n",
    "scaler = MinMaxScaler()\n",
    "meta_feat_scaled = scaler.fit_transform(meta_feat.drop(\"sentiment\", axis = 1))\n",
    "\n",
    "# Combine the features\n",
    "\n",
    "from scipy.sparse import coo_matrix, hstack\n",
    "\n",
    "meta_feat_scaled = coo_matrix(meta_feat_scaled)\n",
    "meta_feat_scaled\n",
    "\n",
    "# Derive X and Y\n",
    "\n",
    "X = hstack([sparse_feat, meta_feat_scaled.astype(float)])\n",
    "y = train_processed.sentiment\n",
    "indices = train_processed.index\n",
    "\n",
    "# Derive train/test set\n",
    "\n",
    "from sklearn.model_selection import train_test_split\n",
    "Xtrain, Xtest, ytrain, ytest, itrain, itest = train_test_split(X, y, indices, train_size = 0.8, random_state = 42)"
   ]
  },
  {
   "cell_type": "markdown",
   "metadata": {},
   "source": [
    "filename = 'lr_stacked.sav'\n",
    "\n",
    "\n",
    "parameter = {'model__C':[0.01, 0.1, 1, 10, 100, 1000]}\n",
    "\n",
    "clf = create_classifier(Xtrain,\n",
    "                        ytrain,\n",
    "                        LogisticRegression(solver = 'lbfgs', class_weight = 'balanced'),\n",
    "                        parameter,\n",
    "                        5,\n",
    "                        'f1_macro',\n",
    "                        open(os.path.join(model_dir,filename), 'wb'))\n",
    "\n",
    "# Extract classifier score\n",
    "f1macro_score, cm = evaluate_classifier(clf,\n",
    "                                       Xtest,\n",
    "                                       ytest)\n",
    "\n",
    "# Print score\n",
    "print(f1macro_score)\n",
    "print(cm)\n",
    "print(clf.best_params_)"
   ]
  },
  {
   "cell_type": "markdown",
   "metadata": {},
   "source": [
    "### Logistic Regression"
   ]
  },
  {
   "cell_type": "markdown",
   "metadata": {},
   "source": [
    "### Naive Bayes"
   ]
  },
  {
   "cell_type": "markdown",
   "metadata": {},
   "source": [
    "filename = 'nb_stacked.sav'\n",
    "\n",
    "parameter = {'model__alpha':[0.01, 0.1, 1, 10, 100]}\n",
    "\n",
    "clf = create_classifier(Xtrain,\n",
    "                        ytrain,\n",
    "                        MultinomialNB(),\n",
    "                        parameter,\n",
    "                        5,\n",
    "                        'f1_macro',\n",
    "                        open(os.path.join(model_dir,filename), 'wb'))\n",
    "\n",
    "# Extract classifier score\n",
    "f1macro_score, cm = evaluate_classifier(clf,\n",
    "                                       Xtest,\n",
    "                                       ytest)\n",
    "\n",
    "# Print score\n",
    "print(f1macro_score)\n",
    "print(cm)\n",
    "print(clf.best_params_)"
   ]
  },
  {
   "cell_type": "markdown",
   "metadata": {},
   "source": [
    "### SVC"
   ]
  },
  {
   "cell_type": "markdown",
   "metadata": {},
   "source": [
    "filename = 'svc_stacked.sav'\n",
    "\n",
    "parameter = {'model__C':[0.01, 0.1, 1],\n",
    "             'model__kernel':['linear', 'poly', 'rbf'],\n",
    "             'model__gamma':['auto', 'scale']}\n",
    "\n",
    "\n",
    "clf = create_classifier(Xtrain,\n",
    "                        ytrain,\n",
    "                        SVC(),\n",
    "                        parameter,\n",
    "                        3,\n",
    "                        'f1_macro',\n",
    "                        open(os.path.join(model_dir,filename), 'wb'))\n",
    "\n",
    "# Extract classifier score\n",
    "f1macro_score, cm = evaluate_classifier(clf,\n",
    "                                       Xtest,\n",
    "                                       ytest)\n",
    "\n",
    "# Print score\n",
    "print(f1macro_score)\n",
    "print(cm)\n",
    "print(clf.best_params_)"
   ]
  },
  {
   "cell_type": "markdown",
   "metadata": {},
   "source": [
    "### SGD"
   ]
  },
  {
   "cell_type": "markdown",
   "metadata": {},
   "source": [
    "filename = 'sgd_stacked.sav'\n",
    "\n",
    "parameter = {'model__alpha': [1e-4, 1e-3, 1e-2, 1e-1, 1e0, 1e1, 1e2]}\n",
    "\n",
    "\n",
    "clf = create_classifier(Xtrain,\n",
    "                        ytrain,\n",
    "                        SGDClassifier(),\n",
    "                        parameter,\n",
    "                        3,\n",
    "                        'f1_macro',\n",
    "                        open(os.path.join(model_dir,filename), 'wb'))\n",
    "\n",
    "# Extract classifier score\n",
    "f1macro_score, cm = evaluate_classifier(clf,\n",
    "                                       Xtest,\n",
    "                                       ytest)\n",
    "\n",
    "# Print score\n",
    "print(f1macro_score)\n",
    "print(cm)\n",
    "print(clf.best_params_)"
   ]
  },
  {
   "cell_type": "code",
   "execution_count": 84,
   "metadata": {
    "scrolled": true
   },
   "outputs": [
    {
     "data": {
      "text/html": [
       "<div>\n",
       "<style scoped>\n",
       "    .dataframe tbody tr th:only-of-type {\n",
       "        vertical-align: middle;\n",
       "    }\n",
       "\n",
       "    .dataframe tbody tr th {\n",
       "        vertical-align: top;\n",
       "    }\n",
       "\n",
       "    .dataframe thead th {\n",
       "        text-align: right;\n",
       "    }\n",
       "</style>\n",
       "<table border=\"1\" class=\"dataframe\">\n",
       "  <thead>\n",
       "    <tr style=\"text-align: right;\">\n",
       "      <th></th>\n",
       "      <th>model</th>\n",
       "      <th>f1_macro</th>\n",
       "    </tr>\n",
       "  </thead>\n",
       "  <tbody>\n",
       "    <tr>\n",
       "      <th>0</th>\n",
       "      <td>nb_stacked.sav</td>\n",
       "      <td>0.430446</td>\n",
       "    </tr>\n",
       "    <tr>\n",
       "      <th>1</th>\n",
       "      <td>lr_stacked.sav</td>\n",
       "      <td>0.492030</td>\n",
       "    </tr>\n",
       "    <tr>\n",
       "      <th>2</th>\n",
       "      <td>svc_stacked.sav</td>\n",
       "      <td>0.361986</td>\n",
       "    </tr>\n",
       "    <tr>\n",
       "      <th>3</th>\n",
       "      <td>sgd_stacked.sav</td>\n",
       "      <td>0.417685</td>\n",
       "    </tr>\n",
       "  </tbody>\n",
       "</table>\n",
       "</div>"
      ],
      "text/plain": [
       "             model  f1_macro\n",
       "0   nb_stacked.sav  0.430446\n",
       "1   lr_stacked.sav  0.492030\n",
       "2  svc_stacked.sav  0.361986\n",
       "3  sgd_stacked.sav  0.417685"
      ]
     },
     "execution_count": 84,
     "metadata": {},
     "output_type": "execute_result"
    }
   ],
   "source": [
    "models = ['nb_stacked.sav', 'lr_stacked.sav', 'svc_stacked.sav', 'sgd_stacked.sav']\n",
    "results = get_model_results(models, model_dir, Xtest, ytest)\n",
    "results"
   ]
  },
  {
   "cell_type": "markdown",
   "metadata": {},
   "source": [
    "# Embedding models"
   ]
  },
  {
   "cell_type": "markdown",
   "metadata": {},
   "source": [
    "## Word2vec custom trained"
   ]
  },
  {
   "cell_type": "code",
   "execution_count": 85,
   "metadata": {},
   "outputs": [],
   "source": [
    "from gensim.models import Word2Vec, KeyedVectors\n",
    "import multiprocessing\n"
   ]
  },
  {
   "cell_type": "code",
   "execution_count": 86,
   "metadata": {},
   "outputs": [],
   "source": [
    "def get_mean_vector(word2vec_model, n_dim, doc):\n",
    "    ### From a document, derive the mean vector of its vocabularies with embeddings from a specified word2vec model with dimension n\n",
    "    ###\n",
    "    \n",
    "    # remove out-of-vocabulary words\n",
    "    word_list = [word for word in doc if word in word2vec_model.wv.vocab]\n",
    "    \n",
    "    # Take average if the doc contains in-vocabulary words, else, take a matrix of zeroes\n",
    "    if len(word_list) >= 1:\n",
    "        return np.mean(word2vec_model[word_list], axis=0)\n",
    "    else:\n",
    "        return ([0] * n_dim)"
   ]
  },
  {
   "cell_type": "code",
   "execution_count": 109,
   "metadata": {},
   "outputs": [
    {
     "name": "stdout",
     "output_type": "stream",
     "text": [
      "Fitting 5 folds for each of 5 candidates, totalling 25 fits\n"
     ]
    },
    {
     "name": "stderr",
     "output_type": "stream",
     "text": [
      "[Parallel(n_jobs=-1)]: Using backend LokyBackend with 8 concurrent workers.\n",
      "[Parallel(n_jobs=-1)]: Done   2 tasks      | elapsed:    0.8s\n",
      "[Parallel(n_jobs=-1)]: Done   9 tasks      | elapsed:    2.8s\n",
      "[Parallel(n_jobs=-1)]: Done  13 out of  25 | elapsed:    6.4s remaining:    5.9s\n",
      "[Parallel(n_jobs=-1)]: Done  16 out of  25 | elapsed:    8.1s remaining:    4.5s\n",
      "[Parallel(n_jobs=-1)]: Done  19 out of  25 | elapsed:   11.5s remaining:    3.5s\n",
      "[Parallel(n_jobs=-1)]: Done  22 out of  25 | elapsed:   12.1s remaining:    1.6s\n",
      "[Parallel(n_jobs=-1)]: Done  25 out of  25 | elapsed:   12.4s remaining:    0.0s\n",
      "[Parallel(n_jobs=-1)]: Done  25 out of  25 | elapsed:   12.4s finished\n"
     ]
    },
    {
     "name": "stdout",
     "output_type": "stream",
     "text": [
      "The word embedding dimension number is 400\n",
      "0.4488771034664754\n",
      "[[ 46  32  36]\n",
      " [ 22  96  49]\n",
      " [151 188 436]]\n",
      "{'model__C': 1}\n",
      "Fitting 5 folds for each of 5 candidates, totalling 25 fits\n"
     ]
    },
    {
     "name": "stderr",
     "output_type": "stream",
     "text": [
      "[Parallel(n_jobs=-1)]: Using backend LokyBackend with 8 concurrent workers.\n",
      "[Parallel(n_jobs=-1)]: Done   2 tasks      | elapsed:    1.1s\n",
      "[Parallel(n_jobs=-1)]: Done   9 tasks      | elapsed:    4.2s\n",
      "[Parallel(n_jobs=-1)]: Done  13 out of  25 | elapsed:    6.7s remaining:    6.2s\n",
      "[Parallel(n_jobs=-1)]: Done  16 out of  25 | elapsed:    8.7s remaining:    4.9s\n",
      "[Parallel(n_jobs=-1)]: Done  19 out of  25 | elapsed:   11.9s remaining:    3.7s\n",
      "[Parallel(n_jobs=-1)]: Done  22 out of  25 | elapsed:   12.8s remaining:    1.7s\n",
      "[Parallel(n_jobs=-1)]: Done  25 out of  25 | elapsed:   13.3s remaining:    0.0s\n",
      "[Parallel(n_jobs=-1)]: Done  25 out of  25 | elapsed:   13.3s finished\n"
     ]
    },
    {
     "name": "stdout",
     "output_type": "stream",
     "text": [
      "The word embedding dimension number is 400\n",
      "0.4595443279928815\n",
      "[[ 46  31  37]\n",
      " [ 11 108  48]\n",
      " [155 193 427]]\n",
      "{'model__C': 0.1}\n",
      "Fitting 5 folds for each of 5 candidates, totalling 25 fits\n"
     ]
    },
    {
     "name": "stderr",
     "output_type": "stream",
     "text": [
      "[Parallel(n_jobs=-1)]: Using backend LokyBackend with 8 concurrent workers.\n",
      "[Parallel(n_jobs=-1)]: Done   2 tasks      | elapsed:    1.4s\n",
      "[Parallel(n_jobs=-1)]: Done   9 tasks      | elapsed:    5.1s\n",
      "[Parallel(n_jobs=-1)]: Done  13 out of  25 | elapsed:    7.0s remaining:    6.4s\n",
      "[Parallel(n_jobs=-1)]: Done  16 out of  25 | elapsed:    9.3s remaining:    5.2s\n",
      "[Parallel(n_jobs=-1)]: Done  19 out of  25 | elapsed:   12.2s remaining:    3.8s\n",
      "[Parallel(n_jobs=-1)]: Done  22 out of  25 | elapsed:   13.3s remaining:    1.7s\n",
      "[Parallel(n_jobs=-1)]: Done  25 out of  25 | elapsed:   13.6s remaining:    0.0s\n",
      "[Parallel(n_jobs=-1)]: Done  25 out of  25 | elapsed:   13.6s finished\n"
     ]
    },
    {
     "name": "stdout",
     "output_type": "stream",
     "text": [
      "The word embedding dimension number is 400\n",
      "0.45522944415519834\n",
      "[[ 45  32  37]\n",
      " [  9 109  49]\n",
      " [165 189 421]]\n",
      "{'model__C': 0.1}\n",
      "Fitting 5 folds for each of 5 candidates, totalling 25 fits\n"
     ]
    },
    {
     "name": "stderr",
     "output_type": "stream",
     "text": [
      "[Parallel(n_jobs=-1)]: Using backend LokyBackend with 8 concurrent workers.\n",
      "[Parallel(n_jobs=-1)]: Done   2 tasks      | elapsed:    1.5s\n",
      "[Parallel(n_jobs=-1)]: Done   9 tasks      | elapsed:    5.7s\n",
      "[Parallel(n_jobs=-1)]: Done  13 out of  25 | elapsed:    7.2s remaining:    6.7s\n",
      "[Parallel(n_jobs=-1)]: Done  16 out of  25 | elapsed:    9.8s remaining:    5.5s\n",
      "[Parallel(n_jobs=-1)]: Done  19 out of  25 | elapsed:   12.2s remaining:    3.8s\n",
      "[Parallel(n_jobs=-1)]: Done  22 out of  25 | elapsed:   13.6s remaining:    1.8s\n",
      "[Parallel(n_jobs=-1)]: Done  25 out of  25 | elapsed:   13.9s remaining:    0.0s\n",
      "[Parallel(n_jobs=-1)]: Done  25 out of  25 | elapsed:   13.9s finished\n"
     ]
    },
    {
     "name": "stdout",
     "output_type": "stream",
     "text": [
      "The word embedding dimension number is 400\n",
      "0.4539968297969444\n",
      "[[ 46  35  33]\n",
      " [ 13 106  48]\n",
      " [166 186 423]]\n",
      "{'model__C': 0.1}\n",
      "Fitting 5 folds for each of 5 candidates, totalling 25 fits\n"
     ]
    },
    {
     "name": "stderr",
     "output_type": "stream",
     "text": [
      "[Parallel(n_jobs=-1)]: Using backend LokyBackend with 8 concurrent workers.\n",
      "[Parallel(n_jobs=-1)]: Done   2 tasks      | elapsed:    1.7s\n",
      "[Parallel(n_jobs=-1)]: Done   9 tasks      | elapsed:    5.8s\n",
      "[Parallel(n_jobs=-1)]: Done  13 out of  25 | elapsed:    7.6s remaining:    7.0s\n",
      "[Parallel(n_jobs=-1)]: Done  16 out of  25 | elapsed:   10.0s remaining:    5.6s\n",
      "[Parallel(n_jobs=-1)]: Done  19 out of  25 | elapsed:   12.6s remaining:    3.9s\n",
      "[Parallel(n_jobs=-1)]: Done  22 out of  25 | elapsed:   13.8s remaining:    1.8s\n",
      "[Parallel(n_jobs=-1)]: Done  25 out of  25 | elapsed:   14.3s remaining:    0.0s\n",
      "[Parallel(n_jobs=-1)]: Done  25 out of  25 | elapsed:   14.3s finished\n"
     ]
    },
    {
     "name": "stdout",
     "output_type": "stream",
     "text": [
      "The word embedding dimension number is 400\n",
      "0.46020170173545544\n",
      "[[ 48  30  36]\n",
      " [ 12 108  47]\n",
      " [163 190 422]]\n",
      "{'model__C': 0.1}\n",
      "Fitting 5 folds for each of 5 candidates, totalling 25 fits\n"
     ]
    },
    {
     "name": "stderr",
     "output_type": "stream",
     "text": [
      "[Parallel(n_jobs=-1)]: Using backend LokyBackend with 8 concurrent workers.\n",
      "[Parallel(n_jobs=-1)]: Done   2 tasks      | elapsed:    1.8s\n",
      "[Parallel(n_jobs=-1)]: Done   9 tasks      | elapsed:    6.2s\n",
      "[Parallel(n_jobs=-1)]: Done  13 out of  25 | elapsed:    7.5s remaining:    6.9s\n",
      "[Parallel(n_jobs=-1)]: Done  16 out of  25 | elapsed:   10.5s remaining:    5.8s\n",
      "[Parallel(n_jobs=-1)]: Done  19 out of  25 | elapsed:   12.8s remaining:    4.0s\n",
      "[Parallel(n_jobs=-1)]: Done  22 out of  25 | elapsed:   14.1s remaining:    1.8s\n",
      "[Parallel(n_jobs=-1)]: Done  25 out of  25 | elapsed:   14.5s remaining:    0.0s\n",
      "[Parallel(n_jobs=-1)]: Done  25 out of  25 | elapsed:   14.5s finished\n"
     ]
    },
    {
     "name": "stdout",
     "output_type": "stream",
     "text": [
      "The word embedding dimension number is 400\n",
      "0.45773190528803953\n",
      "[[ 49  32  33]\n",
      " [ 16 104  47]\n",
      " [157 194 424]]\n",
      "{'model__C': 0.1}\n",
      "Fitting 5 folds for each of 5 candidates, totalling 25 fits\n"
     ]
    },
    {
     "name": "stderr",
     "output_type": "stream",
     "text": [
      "[Parallel(n_jobs=-1)]: Using backend LokyBackend with 8 concurrent workers.\n",
      "[Parallel(n_jobs=-1)]: Done   2 tasks      | elapsed:    1.9s\n",
      "[Parallel(n_jobs=-1)]: Done   9 tasks      | elapsed:    6.9s\n",
      "[Parallel(n_jobs=-1)]: Done  13 out of  25 | elapsed:    9.2s remaining:    8.5s\n",
      "[Parallel(n_jobs=-1)]: Done  16 out of  25 | elapsed:   12.1s remaining:    6.8s\n",
      "[Parallel(n_jobs=-1)]: Done  19 out of  25 | elapsed:   13.7s remaining:    4.3s\n",
      "[Parallel(n_jobs=-1)]: Done  22 out of  25 | elapsed:   15.1s remaining:    2.0s\n",
      "[Parallel(n_jobs=-1)]: Done  25 out of  25 | elapsed:   15.7s remaining:    0.0s\n",
      "[Parallel(n_jobs=-1)]: Done  25 out of  25 | elapsed:   15.7s finished\n"
     ]
    },
    {
     "name": "stdout",
     "output_type": "stream",
     "text": [
      "The word embedding dimension number is 400\n",
      "0.46944708646400574\n",
      "[[ 52  29  33]\n",
      " [ 15  98  54]\n",
      " [157 173 445]]\n",
      "{'model__C': 0.1}\n",
      "Fitting 5 folds for each of 5 candidates, totalling 25 fits\n"
     ]
    },
    {
     "name": "stderr",
     "output_type": "stream",
     "text": [
      "[Parallel(n_jobs=-1)]: Using backend LokyBackend with 8 concurrent workers.\n",
      "[Parallel(n_jobs=-1)]: Done   2 tasks      | elapsed:    1.8s\n",
      "[Parallel(n_jobs=-1)]: Done   9 tasks      | elapsed:    6.4s\n",
      "[Parallel(n_jobs=-1)]: Done  13 out of  25 | elapsed:    7.5s remaining:    6.9s\n",
      "[Parallel(n_jobs=-1)]: Done  16 out of  25 | elapsed:   10.4s remaining:    5.8s\n",
      "[Parallel(n_jobs=-1)]: Done  19 out of  25 | elapsed:   12.6s remaining:    3.9s\n",
      "[Parallel(n_jobs=-1)]: Done  22 out of  25 | elapsed:   14.0s remaining:    1.8s\n",
      "[Parallel(n_jobs=-1)]: Done  25 out of  25 | elapsed:   14.3s remaining:    0.0s\n",
      "[Parallel(n_jobs=-1)]: Done  25 out of  25 | elapsed:   14.3s finished\n"
     ]
    },
    {
     "name": "stdout",
     "output_type": "stream",
     "text": [
      "The word embedding dimension number is 400\n",
      "0.4596076160851294\n",
      "[[ 50  29  35]\n",
      " [ 19 100  48]\n",
      " [157 186 432]]\n",
      "{'model__C': 0.1}\n",
      "Fitting 5 folds for each of 5 candidates, totalling 25 fits\n"
     ]
    },
    {
     "name": "stderr",
     "output_type": "stream",
     "text": [
      "[Parallel(n_jobs=-1)]: Using backend LokyBackend with 8 concurrent workers.\n",
      "[Parallel(n_jobs=-1)]: Done   2 tasks      | elapsed:    1.8s\n",
      "[Parallel(n_jobs=-1)]: Done   9 tasks      | elapsed:    6.5s\n",
      "[Parallel(n_jobs=-1)]: Done  13 out of  25 | elapsed:    7.5s remaining:    6.9s\n",
      "[Parallel(n_jobs=-1)]: Done  16 out of  25 | elapsed:   10.7s remaining:    5.9s\n",
      "[Parallel(n_jobs=-1)]: Done  19 out of  25 | elapsed:   12.4s remaining:    3.8s\n",
      "[Parallel(n_jobs=-1)]: Done  22 out of  25 | elapsed:   13.9s remaining:    1.8s\n",
      "[Parallel(n_jobs=-1)]: Done  25 out of  25 | elapsed:   14.3s remaining:    0.0s\n",
      "[Parallel(n_jobs=-1)]: Done  25 out of  25 | elapsed:   14.3s finished\n"
     ]
    },
    {
     "name": "stdout",
     "output_type": "stream",
     "text": [
      "The word embedding dimension number is 400\n",
      "0.4575154608043878\n",
      "[[ 48  30  36]\n",
      " [ 16 101  50]\n",
      " [166 177 432]]\n",
      "{'model__C': 0.1}\n",
      "Fitting 5 folds for each of 5 candidates, totalling 25 fits\n"
     ]
    },
    {
     "name": "stderr",
     "output_type": "stream",
     "text": [
      "[Parallel(n_jobs=-1)]: Using backend LokyBackend with 8 concurrent workers.\n",
      "[Parallel(n_jobs=-1)]: Done   2 tasks      | elapsed:    1.8s\n",
      "[Parallel(n_jobs=-1)]: Done   9 tasks      | elapsed:    6.8s\n",
      "[Parallel(n_jobs=-1)]: Done  13 out of  25 | elapsed:    7.5s remaining:    6.9s\n",
      "[Parallel(n_jobs=-1)]: Done  16 out of  25 | elapsed:   10.6s remaining:    5.9s\n",
      "[Parallel(n_jobs=-1)]: Done  19 out of  25 | elapsed:   12.7s remaining:    3.9s\n",
      "[Parallel(n_jobs=-1)]: Done  22 out of  25 | elapsed:   14.0s remaining:    1.8s\n",
      "[Parallel(n_jobs=-1)]: Done  25 out of  25 | elapsed:   14.5s remaining:    0.0s\n",
      "[Parallel(n_jobs=-1)]: Done  25 out of  25 | elapsed:   14.5s finished\n"
     ]
    },
    {
     "name": "stdout",
     "output_type": "stream",
     "text": [
      "The word embedding dimension number is 400\n",
      "0.46798292021071797\n",
      "[[ 52  28  34]\n",
      " [ 18 102  47]\n",
      " [154 186 435]]\n",
      "{'model__C': 0.1}\n",
      "Wall time: 12min 23s\n"
     ]
    }
   ],
   "source": [
    "%%time\n",
    "#### Create Word2vec word embeddings\n",
    "n_dim = 400\n",
    "w2v_window_grid = {}\n",
    "for n_window in np.arange(1,20,2):\n",
    "\n",
    "    sentences = [row.split() for row in train_processed.text]\n",
    "\n",
    "    cores = multiprocessing.cpu_count()\n",
    "\n",
    "    w2v_model = Word2Vec(min_count=10,\n",
    "                         window=n_window,\n",
    "                         size=n_dim,\n",
    "                         sample=6e-5, \n",
    "                         alpha=0.03, \n",
    "                         min_alpha=0.0007, \n",
    "                         negative=20,\n",
    "                         workers=cores-1)\n",
    "\n",
    "    w2v_model.build_vocab(sentences)\n",
    "\n",
    "    w2v_model.train(sentences, total_examples=w2v_model.corpus_count, epochs=30)\n",
    "\n",
    "    #### Derive word2vec features\n",
    "\n",
    "    # Create a dictionary with the vocabs and its embeddings\n",
    "    w2v = dict(zip(w2v_model.wv.index2word, w2v_model.wv.syn0))\n",
    "\n",
    "    # Initialize a vector features dictionary\n",
    "    vec_features = {}\n",
    "\n",
    "    # Iterate over the documents to get the mean of word embeddings feature to derive document embeddings\n",
    "    for index, doc in train_processed.text.iteritems(): \n",
    "        vec_features[index] = get_mean_vector(w2v_model, n_dim, doc.split(' '))\n",
    "\n",
    "    # Create a document feature dataframe\n",
    "    vec_features_df = pd.DataFrame.from_dict(vec_features, 'index')\n",
    "    vec_features_df.shape\n",
    "\n",
    "    #### Evaluate classifier with given word2vec embeddings\n",
    "\n",
    "    # Define X and y\n",
    "\n",
    "    X = vec_features_df\n",
    "    y = train_processed.sentiment\n",
    "    indices = train_processed.index\n",
    "\n",
    "    # Split train and test set\n",
    "\n",
    "    Xtrain, Xtest, ytrain, ytest, itrain, itest = train_test_split(X, y, indices, train_size = 0.8, random_state = 42)\n",
    "\n",
    "    # Specify save file for model\n",
    "    filename = 'lr_w2v.sav'\n",
    "\n",
    "    # Specify parameter grid\n",
    "    parameter = {'model__C':[0.01, 0.1, 1, 10, 100]}\n",
    "\n",
    "    # Run grid search to create best classifier of type\n",
    "    clf = create_classifier(Xtrain, \n",
    "                            ytrain,\n",
    "                            LogisticRegression(solver = 'lbfgs', class_weight = 'balanced'),\n",
    "                            parameter,\n",
    "                            5,\n",
    "                            'f1_macro',\n",
    "                            open(os.path.join(model_dir,filename), 'wb'))\n",
    "\n",
    "    # Extract classifier score\n",
    "    f1macro_score, cm = evaluate_classifier(clf,\n",
    "                                           Xtest,\n",
    "                                           ytest)\n",
    "\n",
    "    # Save score\n",
    "    w2v_window_grid[n_window] = f1macro_score\n",
    "\n",
    "    # Print score\n",
    "    print(\"The word embedding dimension number is\", n_dim)\n",
    "    print(f1macro_score)\n",
    "    print(cm)\n",
    "    print(clf.best_params_)"
   ]
  },
  {
   "cell_type": "code",
   "execution_count": 110,
   "metadata": {},
   "outputs": [],
   "source": [
    "w2v_window_df = pd.DataFrame.from_dict(w2v_window_grid, orient = 'index' )"
   ]
  },
  {
   "cell_type": "code",
   "execution_count": 111,
   "metadata": {},
   "outputs": [],
   "source": [
    "w2v_window_df.to_json(os.path.join(data_dir, 'interim', 'w2v_window_search_results.txt'))"
   ]
  },
  {
   "cell_type": "code",
   "execution_count": 112,
   "metadata": {},
   "outputs": [],
   "source": [
    "w2v_window_df = pd.read_json(os.path.join(data_dir, 'interim', 'w2v_window_search_results.txt'))"
   ]
  },
  {
   "cell_type": "code",
   "execution_count": 114,
   "metadata": {},
   "outputs": [
    {
     "data": {
      "image/png": "[encoded data removed]",
      "text/plain": [
       "<Figure size 432x288 with 1 Axes>"
      ]
     },
     "metadata": {
      "needs_background": "light"
     },
     "output_type": "display_data"
    }
   ],
   "source": [
    "w2v_window_df.sort_index().plot()\n",
    "plt.title('Word2Vec window Search')\n",
    "plt.xlabel('Number of windows')\n",
    "plt.ylabel('F1 Macro Score')\n",
    "plt.legend('')\n",
    "plt.show()"
   ]
  },
  {
   "cell_type": "markdown",
   "metadata": {},
   "source": [
    "## Word2Vec Google Pre-Trained Model"
   ]
  },
  {
   "cell_type": "code",
   "execution_count": null,
   "metadata": {},
   "outputs": [],
   "source": [
    "# Load Google's pre-trained Word2Vec model.\n",
    "\n",
    "w2v_google_model = KeyedVectors.load_word2vec_format(os.path.join(model_dir, 'embeddings', 'GoogleNews-vectors-negative300.bin'), binary=True)"
   ]
  },
  {
   "cell_type": "code",
   "execution_count": null,
   "metadata": {},
   "outputs": [],
   "source": [
    "# Create a dictionary with the vocabs and its embeddings\n",
    "w2v = dict(zip(w2v_google_model.wv.index2word, w2v_google_model.wv.syn0))\n",
    "\n",
    "# Initialize a vector features dictionary\n",
    "vec_features = {}\n",
    "\n",
    "# Iterate over the documents to get the mean of word embeddings feature to derive document embeddings\n",
    "for index, doc in train_processed.text.iteritems(): \n",
    "    vec_features[index] = get_mean_vector(w2v_google_model, 300, doc.split(' '))\n",
    "\n",
    "# Create a document feature dataframe\n",
    "vec_features_df = pd.DataFrame.from_dict(vec_features, 'index')\n",
    "vec_features_df.shape\n",
    "\n",
    "#### Evaluate classifier with given word2vec embeddings\n",
    "\n",
    "# Define X and y\n",
    "\n",
    "X = vec_features_df\n",
    "y = train_processed.sentiment\n",
    "indices = train_processed.index\n",
    "\n",
    "# Split train and test set\n",
    "\n",
    "Xtrain, Xtest, ytrain, ytest, itrain, itest = train_test_split(X, y, indices, train_size = 0.8, random_state = 42)\n",
    "\n",
    "# Specify save file for model\n",
    "filename = 'lr_w2v_pretrained_google.sav'\n",
    "\n",
    "# Specify parameter grid\n",
    "parameter = {'model__C':[0.01, 0.1, 1, 10, 100]}\n",
    "\n",
    "# Run grid search to create best classifier of type\n",
    "clf = create_classifier(Xtrain, \n",
    "                        ytrain,\n",
    "                        LogisticRegression(solver = 'lbfgs', class_weight = 'balanced'),\n",
    "                        parameter,\n",
    "                        5,\n",
    "                        'f1_macro',\n",
    "                        open(os.path.join(model_dir,filename), 'wb'))\n",
    "\n",
    "# Extract classifier score\n",
    "f1macro_score, cm = evaluate_classifier(clf,\n",
    "                                       Xtest,\n",
    "                                       ytest)\n",
    "\n",
    "# Print score\n",
    "print(f1macro_score)\n",
    "print(cm)\n",
    "print(clf.best_params_)"
   ]
  },
  {
   "cell_type": "markdown",
   "metadata": {},
   "source": [
    "## GloVe Stanford Pre-trained"
   ]
  },
  {
   "cell_type": "markdown",
   "metadata": {},
   "source": [
    "import spacy\n",
    "\n",
    "nlp = spacy.load('en_vectors_web_lg')\n",
    "\n",
    "total_vectors = len(nlp.vocab.vectors)\n",
    "print('Total word vectors:', total_vectors)"
   ]
  },
  {
   "cell_type": "markdown",
   "metadata": {},
   "source": [
    "from gensim.scripts.glove2word2vec import glove2word2vec\n",
    "glove_input_file = os.path.join(model_dir, 'embeddings', 'glove.6B.300d.txt')\n",
    "word2vec_output_file = os.path.join(model_dir, 'embeddings','glove.6B.300d.txt.word2vec')\n",
    "glove2word2vec(glove_input_file, word2vec_output_file)"
   ]
  },
  {
   "cell_type": "code",
   "execution_count": null,
   "metadata": {},
   "outputs": [],
   "source": [
    "from gensim.scripts.glove2word2vec import glove2word2vec\n",
    "word2vec_output_file = os.path.join(model_dir, 'embeddings','glove.6B.300d.txt.word2vec')\n",
    "w2v_glove_stanford_model = KeyedVectors.load_word2vec_format(word2vec_output_file, binary=False)"
   ]
  },
  {
   "cell_type": "code",
   "execution_count": null,
   "metadata": {},
   "outputs": [],
   "source": [
    "# Create a dictionary with the vocabs and its embeddings\n",
    "w2v = dict(zip(w2v_glove_stanford_model.wv.index2word, w2v_glove_stanford_model.wv.syn0))\n",
    "\n",
    "# Initialize a vector features dictionary\n",
    "vec_features = {}\n",
    "\n",
    "# Iterate over the documents to get the mean of word embeddings feature to derive document embeddings\n",
    "for index, doc in train_processed.text.iteritems(): \n",
    "    vec_features[index] = get_mean_vector(w2v_glove_stanford_model, 300, doc.split(' '))\n",
    "\n",
    "# Create a document feature dataframe\n",
    "vec_features_df = pd.DataFrame.from_dict(vec_features, 'index')\n",
    "vec_features_df.shape\n",
    "\n",
    "#### Evaluate classifier with given word2vec embeddings\n",
    "\n",
    "# Define X and y\n",
    "\n",
    "X = vec_features_df\n",
    "y = train_processed.sentiment\n",
    "indices = train_processed.index\n",
    "\n",
    "# Split train and test set\n",
    "\n",
    "Xtrain, Xtest, ytrain, ytest, itrain, itest = train_test_split(X, y, indices, train_size = 0.8, random_state = 42)\n",
    "\n",
    "# Specify save file for model\n",
    "filename = 'lr_w2v_pretrained_glove_stanford.sav'\n",
    "\n",
    "# Specify parameter grid\n",
    "parameter = {'model__C':[0.01, 0.1, 1, 10, 100]}\n",
    "\n",
    "# Run grid search to create best classifier of type\n",
    "clf = create_classifier(Xtrain, \n",
    "                        ytrain,\n",
    "                        LogisticRegression(solver = 'lbfgs', class_weight = 'balanced'),\n",
    "                        parameter,\n",
    "                        5,\n",
    "                        'f1_macro',\n",
    "                        open(os.path.join(model_dir,filename), 'wb'))\n",
    "\n",
    "# Extract classifier score\n",
    "f1macro_score, cm = evaluate_classifier(clf,\n",
    "                                       Xtest,\n",
    "                                       ytest)\n",
    "\n",
    "# Print score\n",
    "print(f1macro_score)\n",
    "print(cm)\n",
    "print(clf.best_params_)"
   ]
  },
  {
   "cell_type": "markdown",
   "metadata": {},
   "source": [
    "## Fastext"
   ]
  },
  {
   "cell_type": "code",
   "execution_count": null,
   "metadata": {},
   "outputs": [],
   "source": [
    "import nltk\n",
    "from gensim.models.fasttext import FastText\n",
    "\n",
    "wpt = nltk.WordPunctTokenizer()\n",
    "tokenized_corpus = [wpt.tokenize(doc) for document in train_processed.text]"
   ]
  },
  {
   "cell_type": "code",
   "execution_count": null,
   "metadata": {},
   "outputs": [],
   "source": [
    "# Set values for various parameters\n",
    "feature_size = 300    # Word vector dimensionality  \n",
    "window_context = 50          # Context window size                                                                                    \n",
    "min_word_count = 5   # Minimum word count                        \n",
    "sample = 1e-3   # Downsample setting for frequent words\n",
    "\n",
    "\n",
    "ft_model = FastText(tokenized_corpus, \n",
    "                    size=feature_size, \n",
    "                    window=window_context, \n",
    "                    min_count=min_word_count,\n",
    "                    sample=sample, \n",
    "                    sg=1, \n",
    "                    iter=50)"
   ]
  },
  {
   "cell_type": "code",
   "execution_count": null,
   "metadata": {},
   "outputs": [],
   "source": [
    "# Create a dictionary with the vocabs and its embeddings\n",
    "w2v = dict(zip(ft_model.wv.index2word, ft_model.wv.syn0))\n",
    "\n",
    "# Initialize a vector features dictionary\n",
    "vec_features = {}\n",
    "\n",
    "# Iterate over the documents to get the mean of word embeddings feature to derive document embeddings\n",
    "for index, doc in train_processed.text.iteritems(): \n",
    "    vec_features[index] = get_mean_vector(ft_model, 300, doc.split(' '))\n",
    "\n",
    "# Create a document feature dataframe\n",
    "vec_features_df = pd.DataFrame.from_dict(vec_features, 'index')\n",
    "vec_features_df.shape\n",
    "\n",
    "#### Evaluate classifier with given word2vec embeddings\n",
    "\n",
    "# Define X and y\n",
    "\n",
    "X = vec_features_df\n",
    "y = train_processed.sentiment\n",
    "indices = train_processed.index\n",
    "\n",
    "# Split train and test set\n",
    "\n",
    "Xtrain, Xtest, ytrain, ytest, itrain, itest = train_test_split(X, y, indices, train_size = 0.8, random_state = 42)\n",
    "\n",
    "# Specify save file for model\n",
    "filename = 'lr_w2v_fasttext.sav'\n",
    "\n",
    "# Specify parameter grid\n",
    "parameter = {'model__C':[0.01, 0.1, 1, 10, 100]}\n",
    "\n",
    "# Run grid search to create best classifier of type\n",
    "clf = create_classifier(Xtrain, \n",
    "                        ytrain,\n",
    "                        LogisticRegression(solver = 'lbfgs', class_weight = 'balanced'),\n",
    "                        parameter,\n",
    "                        5,\n",
    "                        'f1_macro',\n",
    "                        open(os.path.join(model_dir,filename), 'wb'))\n",
    "\n",
    "# Extract classifier score\n",
    "f1macro_score, cm = evaluate_classifier(clf,\n",
    "                                       Xtest,\n",
    "                                       ytest)\n",
    "\n",
    "# Print score\n",
    "print(f1macro_score)\n",
    "print(cm)\n",
    "print(clf.best_params_)"
   ]
  },
  {
   "cell_type": "markdown",
   "metadata": {},
   "source": [
    "## Results"
   ]
  },
  {
   "cell_type": "markdown",
   "metadata": {},
   "source": [
    "weights = pd.DataFrame(w2v).transpose()"
   ]
  },
  {
   "cell_type": "markdown",
   "metadata": {},
   "source": [
    "similar_words = {search_term: [item[0] for item in w2v_model.wv.most_similar([search_term], topn=5)]\n",
    "                  for search_term in ['patient', 'drug', 'therapy', 'treatment', 'vaccine', 'health', 'public','effective']}\n",
    "similar_words"
   ]
  },
  {
   "cell_type": "markdown",
   "metadata": {},
   "source": [
    "from sklearn.manifold import TSNE\n",
    "\n",
    "words = sum([[k] + v for k, v in similar_words.items()], [])\n",
    "wvs = w2v_model.wv[words]\n",
    "\n",
    "tsne = TSNE(n_components=2, random_state=0, n_iter=10000, perplexity=2)\n",
    "np.set_printoptions(suppress=True)\n",
    "T = tsne.fit_transform(wvs)\n",
    "labels = words\n",
    "\n",
    "plt.figure(figsize=(14, 8))\n",
    "plt.scatter(T[:, 0], T[:, 1], c='orange', edgecolors='r')\n",
    "for label, x, y in zip(labels, T[:, 0], T[:, 1]):\n",
    "    plt.annotate(label, xy=(x+1, y+1), xytext=(0, 0), textcoords='offset points')"
   ]
  }
 ],
 "metadata": {
  "kernelspec": {
   "display_name": "Python 3",
   "language": "python",
   "name": "python3"
  },
  "language_info": {
   "codemirror_mode": {
    "name": "ipython",
    "version": 3
   },
   "file_extension": ".py",
   "mimetype": "text/x-python",
   "name": "python",
   "nbconvert_exporter": "python",
   "pygments_lexer": "ipython3",
   "version": "3.7.3"
  }
 },
 "nbformat": 4,
 "nbformat_minor": 2
}
